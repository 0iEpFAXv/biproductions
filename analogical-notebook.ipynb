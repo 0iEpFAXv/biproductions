{
 "cells": [
  {
   "cell_type": "code",
   "execution_count": 1,
   "metadata": {},
   "outputs": [
    {
     "name": "stdout",
     "output_type": "stream",
     "text": [
      "/projects/biproductions\n"
     ]
    },
    {
     "ename": "",
     "evalue": "1",
     "output_type": "error",
     "traceback": []
    }
   ],
   "source": [
    ":!pwd"
   ]
  },
  {
   "cell_type": "code",
   "execution_count": 2,
   "metadata": {},
   "outputs": [
    {
     "ename": "",
     "evalue": "1",
     "output_type": "error",
     "traceback": []
    }
   ],
   "source": [
    "import ClassyPrelude\n",
    "import BiProductionsLib\n",
    "import qualified Data.Vector as V"
   ]
  },
  {
   "cell_type": "code",
   "execution_count": 3,
   "metadata": {},
   "outputs": [
    {
     "name": "stdout",
     "output_type": "stream",
     "text": [
      "Sentence [(NTPast,NTPlusDelta)] [Modifier 0 3,Modifier 1 3,Modifier 2 3,Modifier 3 3,Modifier 4 9,Modifier 5 4,Modifier 6 9,Modifier 7 8,Modifier 8 9,Modifier 9 3] [Analogy 0 3 9 4]\n"
     ]
    },
    {
     "ename": "",
     "evalue": "1",
     "output_type": "error",
     "traceback": []
    }
   ],
   "source": [
    "--          \"  The quick brown   fox jumped  over   the  lazy dog's  back .\"\n",
    "--wordId     00000 00001 00010 00011  00100 00101 00110 00111 01000 01001\n",
    "--modifierId 00011 00011 00011 00011  01001 00100 01001 01000 01001 00011\n",
    "--analogy    Analogy 0 00011 01001 00100\n",
    "\n",
    "s1OMList =  [    3,   3,     3,    3,     9,    4,    9,    8,    9,    3] :: [Int]\n",
    "s1ModifiersList = map (\\(x,y) -> Modifier x y) $ zip ([0..] :: [Int]) s1OMList\n",
    "s1Tenses = V.singleton (NTPast, NTPlusDelta)\n",
    "s1Modifiers = V.fromList s1ModifiersList\n",
    "s1Analogies = V.singleton (Analogy 0 3 9 4)\n",
    "s1 = Sentence s1Tenses s1Modifiers s1Analogies\n",
    "--bits = fmap V.fromList $ encodeOneHotOutput defaultOneHotCaps s1\n",
    "--encodeOneHotOutput defaultOneHotCaps s1\n",
    "--fmap (getBitGroups defaultOneHotCaps) bits\n",
    "s1"
   ]
  },
  {
   "cell_type": "code",
   "execution_count": 4,
   "metadata": {},
   "outputs": [
    {
     "name": "stdout",
     "output_type": "stream",
     "text": [
      "Sentence [(NTPast,NTPlusDelta),(NTPlusDelta,NTPlusDelta)] [Modifier 0 0,Modifier 1 3,Modifier 2 3,Modifier 3 0,Modifier 5 8,Modifier 6 6,Modifier 7 8,Modifier 8 6] [Analogy 0 0 3 1,Analogy 1 6 8 7]\n"
     ]
    },
    {
     "ename": "",
     "evalue": "1",
     "output_type": "error",
     "traceback": []
    }
   ],
   "source": [
    "--          \" Jack   ate   the twinkie     ;  then    he   got  sick     .\"\n",
    "--wordId     00000 00001 00010   00011 00100 00101 00110 00111 01000 01001\n",
    "--modifierId 00000 00011 00011   00000     - 01000 00110 01000 00110     -\n",
    "--analogy    Analogy 0 00000 00011 00001, Analogy 1 00110 01000 00111 \n",
    "\n",
    "s2OMList =  [    0,   3,     3,    0,    -1,    8,    6,    8,    6,    -1] :: [Int]\n",
    "s2ModifiersList = map (\\(x,y) -> Modifier x y) $ zip ([0..] :: [Int]) s2OMList\n",
    "f2ModifiersList = filter (\\(Modifier _ y) -> y >= 0) s2ModifiersList\n",
    "s2Tenses = V.fromList [(NTPast, NTPlusDelta), (NTPlusDelta, NTPlusDelta)]\n",
    "s2Modifiers = V.fromList f2ModifiersList\n",
    "s2Analogies = V.fromList [(Analogy 0 0 3 1), (Analogy 1 6 8 7)]\n",
    "s2 = Sentence s2Tenses s2Modifiers s2Analogies\n",
    "--bits = fmap V.fromList $ encodeOneHotOutput defaultOneHotCaps s1\n",
    "--encodeOneHotOutput defaultOneHotCaps s1\n",
    "--fmap (getBitGroups defaultOneHotCaps) bits\n",
    "s2"
   ]
  },
  {
   "cell_type": "code",
   "execution_count": 5,
   "metadata": {},
   "outputs": [
    {
     "name": "stdout",
     "output_type": "stream",
     "text": [
      "Right (Sentence [(NTPast,NTPlusDelta)] [Modifier 0 3,Modifier 1 3,Modifier 2 3,Modifier 3 3,Modifier 4 9,Modifier 5 4,Modifier 6 9,Modifier 7 8,Modifier 8 9,Modifier 9 3] [Analogy 0 3 9 4],True)\n",
      "Right (Sentence [(NTPast,NTPlusDelta),(NTPlusDelta,NTPlusDelta)] [Modifier 0 0,Modifier 1 3,Modifier 2 3,Modifier 3 0,Modifier 5 8,Modifier 6 6,Modifier 7 8,Modifier 8 6] [Analogy 0 0 3 1,Analogy 1 6 8 7],True)\n"
     ]
    },
    {
     "ename": "",
     "evalue": "1",
     "output_type": "error",
     "traceback": []
    }
   ],
   "source": [
    "decodeEncodeOneHotOutput defaultOneHotCaps s1\n",
    "--bits = fmap V.fromList $ encodeOneHotOutput defaultOneHotCaps s2\n",
    "--fmap (getBitGroups defaultOneHotCaps) bits\n",
    "decodeEncodeOneHotOutput defaultOneHotCaps s2"
   ]
  },
  {
   "cell_type": "code",
   "execution_count": 5,
   "metadata": {},
   "outputs": [
    {
     "name": "stdout",
     "output_type": "stream",
     "text": [
      "([1,0,0],[1,0])\n",
      "\n",
      "\u001b[;1m<interactive>:49:23: \u001b[;1m\u001b[35mwarning:\u001b[0m\u001b[0m\u001b[;1m [\u001b[;1m\u001b[35m-Wtype-defaults\u001b[0m\u001b[0m\u001b[;1m]\u001b[0m\u001b[0m\u001b[;1m\n",
      "    • Defaulting the following constraints to type ‘Integer’\n",
      "        (Integral b0) arising from a use of ‘^’ at <interactive>:49:23-28\n",
      "        (Num b0) arising from the literal ‘16’ at <interactive>:49:27-28\n",
      "    • In the first argument of ‘padOrdinals’, namely ‘(2 ^ 16)’\n",
      "      In the expression: padOrdinals (2 ^ 16) (2 ^ 8) ords\n",
      "      In an equation for ‘padded’:\n",
      "          padded = padOrdinals (2 ^ 16) (2 ^ 8) ords\u001b[0m\u001b[0m\n",
      "\u001b[0m\u001b[0m\u001b[0m\n",
      "\u001b[;1m<interactive>:49:32: \u001b[;1m\u001b[35mwarning:\u001b[0m\u001b[0m\u001b[;1m [\u001b[;1m\u001b[35m-Wtype-defaults\u001b[0m\u001b[0m\u001b[;1m]\u001b[0m\u001b[0m\u001b[;1m\n",
      "    • Defaulting the following constraints to type ‘Integer’\n",
      "        (Integral b0) arising from a use of ‘^’ at <interactive>:49:32-36\n",
      "        (Num b0) arising from the literal ‘8’ at <interactive>:49:36\n",
      "    • In the second argument of ‘padOrdinals’, namely ‘(2 ^ 8)’\n",
      "      In the expression: padOrdinals (2 ^ 16) (2 ^ 8) ords\n",
      "      In an equation for ‘padded’:\n",
      "          padded = padOrdinals (2 ^ 16) (2 ^ 8) ords\u001b[0m\u001b[0m\n",
      "\u001b[0m\u001b[0m\u001b[0m([0,0,0,0,0,0,0,0,0,0,0,0,0,1,0,0],[0,0,0,0,0,0,1,0])\n"
     ]
    },
    {
     "ename": "",
     "evalue": "1",
     "output_type": "error",
     "traceback": []
    }
   ],
   "source": [
    "ords = wordOrdinals [\"killing\", \"trashing\", \"started\", \"killed\", \"bleed\", \"dragoned\", \"passer\", \"Blade\"]\n",
    "ords \"Killed\"\n",
    "padded = padOrdinals (2 ^ 16) (2 ^ 8) ords\n",
    "padded \"Killed\""
   ]
  },
  {
   "cell_type": "code",
   "execution_count": 8,
   "metadata": {},
   "outputs": [
    {
     "name": "stdout",
     "output_type": "stream",
     "text": [
      "\n",
      "\u001b[;1m<interactive>:100:24: \u001b[;1m\u001b[35mwarning:\u001b[0m\u001b[0m\u001b[;1m [\u001b[;1m\u001b[35m-Wunused-matches\u001b[0m\u001b[0m\u001b[;1m]\u001b[0m\u001b[0m\u001b[;1m\n",
      "    Defined but not used: ‘inSent’\u001b[0m\u001b[0m\n",
      "\u001b[0m\u001b[0m\u001b[0m\n",
      "\u001b[;1m<interactive>:100:31: \u001b[;1m\u001b[35mwarning:\u001b[0m\u001b[0m\u001b[;1m [\u001b[;1m\u001b[35m-Wunused-matches\u001b[0m\u001b[0m\u001b[;1m]\u001b[0m\u001b[0m\u001b[;1m\n",
      "    Defined but not used: ‘tenses’\u001b[0m\u001b[0m\n",
      "\u001b[0m\u001b[0m\u001b[0m\n",
      "\u001b[;1m<interactive>:100:38: \u001b[;1m\u001b[35mwarning:\u001b[0m\u001b[0m\u001b[;1m [\u001b[;1m\u001b[35m-Wunused-matches\u001b[0m\u001b[0m\u001b[;1m]\u001b[0m\u001b[0m\u001b[;1m\n",
      "    Defined but not used: ‘objects’\u001b[0m\u001b[0m\n",
      "\u001b[0m\u001b[0m\u001b[0m\n",
      "\u001b[;1m<interactive>:100:46: \u001b[;1m\u001b[35mwarning:\u001b[0m\u001b[0m\u001b[;1m [\u001b[;1m\u001b[35m-Wunused-matches\u001b[0m\u001b[0m\u001b[;1m]\u001b[0m\u001b[0m\u001b[;1m\n",
      "    Defined but not used: ‘analogies’\u001b[0m\u001b[0m\n",
      "\u001b[0m\u001b[0m\u001b[0m\n",
      "\u001b[;1m<interactive>:100:59: \u001b[;1m\u001b[35mwarning:\u001b[0m\u001b[0m\u001b[;1m [\u001b[;1m\u001b[35m-Wdeprecations\u001b[0m\u001b[0m\u001b[;1m]\u001b[0m\u001b[0m\u001b[;1m\n",
      "    In the use of ‘undefined’ (imported from ClassyPrelude):\n",
      "    Deprecated: \"It is highly recommended that you either avoid partial functions or provide meaningful error messages\"\u001b[0m\u001b[0m\n",
      "\u001b[0m\u001b[0m\u001b[0m"
     ]
    },
    {
     "ename": "",
     "evalue": "1",
     "output_type": "error",
     "traceback": []
    }
   ],
   "source": [
    "-- Since we are going for comprehension, it seems unnecessary to digest sentences longer \n",
    "-- than 30 words. See:\n",
    "-- https://insidegovuk.blog.gov.uk/2014/08/04/sentence-length-why-25-words-is-our-limit/\n",
    "-- The following is a one-hot encoding of a Sentence given these caps.\n",
    "--wordCap :: Integer\n",
    "wordCap = 32*2 -- Doubled for compound sentences\n",
    "\n",
    "--tensesCap :: Integer\n",
    "tensesCap = 2 -- Two tenses possible given possibility of compound sentences\n",
    "\n",
    "encodeCaps = OneHotCaps { ohcWords = wordCap, ohcTenses = tensesCap }\n",
    "\n",
    "-- The encoding will go like this:\n",
    "-- Input: (29 + log_2 wordCap)*wordCap = 2176\n",
    "--   wordCap blocks of:\n",
    "--     1 bit: is present\n",
    "--     1 bit: is capitalized\n",
    "--     1 bit: is time\n",
    "--     16 bits: most significant bits of word ordinal sorted forward\n",
    "--     8 bits: most significant bits of word ordinal sorted reverse\n",
    "--     log_2 wordCap bits: word id\n",
    "-- Output: tensesCap*11 + wordCap*(5 + log_2 tensesCap + Log_2 wordCap) = 726\n",
    "--   tensesCap blocks of:\n",
    "--     1 bit: is present\n",
    "--     9 bit: select AbstractTime start\n",
    "--     9 bit: select AbstractTime end\n",
    "--   wordCap blocks of:\n",
    "--     1 bit: is present\n",
    "--     1 bit: is modifier\n",
    "--     1 bit: is subject\n",
    "--     1 bit: is object\n",
    "--     1 bit: is analogy\n",
    "--     log_2 tensesCap bits: select tense\n",
    "--     log_2 wordCap bits: referent word id\n",
    "--       Notes: For modifier, referent word id refers to object or analogy that is being modified\n",
    "--              For subject, referent word id refers to subject\n",
    "--              For object, referent word id refers to subject\n",
    "--              For analogy, referent word id refers to object\n",
    "\n",
    "--encodeOneHot :: OneHotCaps -> Dictionary -> Sentence -> Either Text ([Double], [Double])\n",
    "encodeOneHot caps dictionary (Sentence input tenses objects analogies) = "
   ]
  },
  {
   "cell_type": "code",
   "execution_count": null,
   "metadata": {},
   "outputs": [],
   "source": []
  }
 ],
 "metadata": {
  "kernelspec": {
   "display_name": "GHCI",
   "language": "haskell",
   "name": "ghci"
  },
  "language_info": {
   "codemirror_mode": "haskell",
   "file_extension": ".lhs",
   "mimetype": "text/x-haskell",
   "name": "ghci"
  }
 },
 "nbformat": 4,
 "nbformat_minor": 2
}
