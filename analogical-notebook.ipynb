{
 "cells": [
  {
   "cell_type": "code",
   "execution_count": 1,
   "metadata": {},
   "outputs": [
    {
     "name": "stdout",
     "output_type": "stream",
     "text": [
      "/projects/biproductions\n"
     ]
    },
    {
     "ename": "",
     "evalue": "1",
     "output_type": "error",
     "traceback": []
    }
   ],
   "source": [
    ":!pwd"
   ]
  },
  {
   "cell_type": "code",
   "execution_count": 2,
   "metadata": {},
   "outputs": [
    {
     "ename": "",
     "evalue": "1",
     "output_type": "error",
     "traceback": []
    }
   ],
   "source": [
    "import ClassyPrelude\n",
    "import BiProductionsLib\n",
    "import qualified Data.Vector as V\n",
    "import qualified Data.Map as Map\n",
    "import Data.Either"
   ]
  },
  {
   "cell_type": "code",
   "execution_count": 3,
   "metadata": {},
   "outputs": [
    {
     "name": "stdout",
     "output_type": "stream",
     "text": [
      "Sentence [(NTPast,NTPlusDelta)] [Modifier 0 3,Modifier 1 3,Modifier 2 3,Modifier 5 4,Modifier 6 9,Modifier 7 8,Modifier 8 9] [Analogy 0 3 9 4]\n"
     ]
    },
    {
     "ename": "",
     "evalue": "1",
     "output_type": "error",
     "traceback": []
    }
   ],
   "source": [
    "--          \"  The quick brown   fox jumped  over   the  lazy dog's  back .\"\n",
    "--wordId     00000 00001 00010 00011  00100 00101 00110 00111 01000 01001\n",
    "--modifierId 00011 00011 00011     -      - 00100 01001 01000 01001     -\n",
    "--analogy    Analogy 0 00011 01001 00100\n",
    "\n",
    "s1ORList =  [    0,   1,     2,                 5,    6,    7,    8        ]\n",
    "s1OMList =  [    3,   3,     3,                 4,    9,    8,    9        ] :: [Int]\n",
    "s1ModifiersList = map (\\(x,y) -> Modifier x y) $ zip s1ORList s1OMList\n",
    "s1Tenses = V.singleton (NTPast, NTPlusDelta)\n",
    "s1Modifiers = V.fromList s1ModifiersList\n",
    "s1Analogies = V.singleton (Analogy 0 3 9 4)\n",
    "s1 = Sentence s1Tenses s1Modifiers s1Analogies\n",
    "--bits = fmap V.fromList $ encodeOneHotOutput defaultOneHotCaps s1\n",
    "--encodeOneHotOutput defaultOneHotCaps s1\n",
    "--fmap (getBitGroups defaultOneHotCaps) bits\n",
    "s1"
   ]
  },
  {
   "cell_type": "code",
   "execution_count": 5,
   "metadata": {},
   "outputs": [
    {
     "name": "stdout",
     "output_type": "stream",
     "text": [
      "Sentence [(NTPast,NTPlusDelta),(NTPlusDelta,NTPlusDelta)] [Modifier 2 3,Modifier 5 8] [Analogy 0 0 3 1,Analogy 1 6 8 7]\n"
     ]
    },
    {
     "ename": "",
     "evalue": "1",
     "output_type": "error",
     "traceback": []
    }
   ],
   "source": [
    "--          \" Jack   ate   the twinkie     ;  then    he   got  sick     .\"\n",
    "--wordId     00000 00001 00010   00011 00100 00101 00110 00111 01000 01001\n",
    "--modifierId     -     - 00011       -     - 01000     -     -     -     -\n",
    "--analogy    Analogy 0 00000 00011 00001, Analogy 1 00110 01000 00111 \n",
    "\n",
    "s2ORList =  [                2,                 5                         ] :: [Int]\n",
    "s2OMList =  [                3,                 8                         ] :: [Int]\n",
    "s2ModifiersList = map (\\(x,y) -> Modifier x y) $ zip s2ORList s2OMList\n",
    "s2Tenses = V.fromList [(NTPast, NTPlusDelta), (NTPlusDelta, NTPlusDelta)]\n",
    "s2Modifiers = V.fromList s2ModifiersList\n",
    "s2Analogies = V.fromList [(Analogy 0 0 3 1), (Analogy 1 6 8 7)]\n",
    "s2 = Sentence s2Tenses s2Modifiers s2Analogies\n",
    "--bits = fmap V.fromList $ encodeOneHotOutput defaultOneHotCaps s1\n",
    "--encodeOneHotOutput defaultOneHotCaps s1\n",
    "--fmap (getBitGroups defaultOneHotCaps) bits\n",
    "s2"
   ]
  },
  {
   "cell_type": "code",
   "execution_count": 6,
   "metadata": {},
   "outputs": [
    {
     "name": "stdout",
     "output_type": "stream",
     "text": [
      "([0,0,0,1,0,0,0,0,0,0],[0,0,0,0,0,0,1,0,0,0],[0,0,0,0,0,0,1,0,0,0],[0,0,0,0,0,0,1,0,0,0])\n",
      "Just [(NTPast,NTPlusDelta),(NTPlusDelta,NTPlusDelta)]\n"
     ]
    },
    {
     "ename": "",
     "evalue": "1",
     "output_type": "error",
     "traceback": []
    }
   ],
   "source": [
    "ebl = encodeBitList :: Int -> [Int]\n",
    "bits1S = V.fromList . padOrdinal (ohcTenseWidth defaultOneHotCaps) . ebl . (2 ^) . fromRight 0 $ encodeTense s2 0 True\n",
    "bits1E = V.fromList . padOrdinal (ohcTenseWidth defaultOneHotCaps) . ebl . (2 ^) . fromRight 0 $ encodeTense s2 0 False\n",
    "bits2S = V.fromList . padOrdinal (ohcTenseWidth defaultOneHotCaps) . ebl . (2 ^) . fromRight 0 $ encodeTense s2 1 True\n",
    "bits2E = V.fromList . padOrdinal (ohcTenseWidth defaultOneHotCaps) . ebl . (2 ^) . fromRight 0 $ encodeTense s2 1 True\n",
    "(bits1S, bits1E, bits2S, bits2E)\n",
    "decodeTenses [bits1S, bits1E, bits2S, bits2E]"
   ]
  },
  {
   "cell_type": "code",
   "execution_count": 7,
   "metadata": {},
   "outputs": [
    {
     "name": "stdout",
     "output_type": "stream",
     "text": [
      "Right (Sentence [(NTPast,NTPlusDelta)] [Modifier 0 3,Modifier 1 3,Modifier 2 3,Modifier 5 4,Modifier 6 9,Modifier 7 8,Modifier 8 9] [Analogy 0 3 9 4],True)\n",
      "Right (Sentence [(NTPast,NTPlusDelta),(NTPlusDelta,NTPlusDelta)] [Modifier 2 3,Modifier 5 8] [Analogy 0 0 3 1,Analogy 1 6 8 7],True)\n"
     ]
    },
    {
     "ename": "",
     "evalue": "1",
     "output_type": "error",
     "traceback": []
    }
   ],
   "source": [
    "decodeEncodeOneHotOutput defaultOneHotCaps s1 10\n",
    "--bits = fmap V.fromList $ encodeOneHotOutput defaultOneHotCaps s2\n",
    "--fmap (getBitGroups defaultOneHotCaps) bits\n",
    "decodeEncodeOneHotOutput defaultOneHotCaps s2 10"
   ]
  },
  {
   "cell_type": "code",
   "execution_count": 8,
   "metadata": {},
   "outputs": [
    {
     "name": "stdout",
     "output_type": "stream",
     "text": [
      "(4,2)\n"
     ]
    },
    {
     "ename": "",
     "evalue": "1",
     "output_type": "error",
     "traceback": []
    }
   ],
   "source": [
    "ords = wordOrdinals [\"killing\", \"trashing\", \"started\", \"killed\", \"bleed\", \"dragoned\", \"passer\", \"Blade\"] :: WordOrdinals Int\n",
    "ords \"Killed\""
   ]
  },
  {
   "cell_type": "code",
   "execution_count": 9,
   "metadata": {},
   "outputs": [
    {
     "name": "stdout",
     "output_type": "stream",
     "text": [
      "\"OneHotCaps {ohcWords = 64, ohcTenses = 2}\"\n"
     ]
    },
    {
     "ename": "",
     "evalue": "1",
     "output_type": "error",
     "traceback": []
    }
   ],
   "source": [
    "-- Since we are going for comprehension, it seems unnecessary to digest sentences longer \n",
    "-- than 30 words. A compound sentence has 2 tenses, so cap tenses at 2. See:\n",
    "-- https://insidegovuk.blog.gov.uk/2014/08/04/sentence-length-why-25-words-is-our-limit/\n",
    "caps = defaultOneHotCaps\n",
    "show caps\n",
    "\n",
    "-- Here are the relevant types for the Linearizer:\n",
    "--type BasicPhrase = ([Int],[Int],Int,[Int])\n",
    "--type LinearPhrase a = [(Int,a)]\n",
    "--data PhraseCode = SubjectCode Int BasicPhrase \n",
    "--                | ConjunctionCode BasicPhrase \n",
    "--                | AnalogyObjectCode Int Int BasicPhrase BasicPhrase Tense\n",
    "--type Linearizer a = PhraseCode -> PhraseContext (LinearPhrase a)\n",
    "--type WordGenerator a = LinearPhrase a -> PhraseContext (LinearPhrase Text)\n",
    "\n",
    "-- The PhraseContext is essentially a random number generator:\n",
    "--do getRandomN (low,high)\n",
    "--do getRandom\n",
    "\n",
    "maxModifiers = 5 :: Int"
   ]
  },
  {
   "cell_type": "code",
   "execution_count": 10,
   "metadata": {},
   "outputs": [
    {
     "name": "stdout",
     "output_type": "stream",
     "text": [
      "Just ([Modifier 0,Modifier 1,Modifier 2,Modifier 3,Modifier 4,MainWord],[\"the\",\"very\",\"very\",\"happy\",\"gnarly\",\"fox\"])\n",
      "Just ([Modifier 0,Modifier 1,Modifier 2,Modifier 3,Modifier 4,MainWord],[\"quickly\",\"very\",\"very\",\"fairly\",\"recently\",\"kills\"])\n",
      "Just ([Modifier 0,Modifier 1,Modifier 2,Modifier 3,Modifier 4,MainWord],[\"will\",\"very\",\"very\",\"fairly\",\"recently\",\"kill\"])\n",
      "Just ([Modifier 0,Modifier 1,Modifier 2,Modifier 3,Modifier 4,MainWord],[\"by\",\"happily\",\"very\",\"fairly\",\"recently\",\"killing\"])\n",
      "Just ([Modifier 0,MainWord,Other 0,Modifier 1],[\"the\",\"fox\",\"of\",\"Box\"])\n",
      "Just ([Modifier 0,MainWord,Other 0,Modifier 4,Other 1,Modifier 1,Modifier 2,Modifier 3],[\"the\",\"fox\",\"of\",\"Box\",\"of\",\"very\",\"happy\",\"Salt\"])\n",
      "Just ([Modifier 0,Modifier 1,Modifier 2,MainWord,Modifier 3,Modifier 4],[\"very\",\"happily\",\"nicely\",\"kills\",\"fairly\",\"epically\"])\n",
      "Just ([Modifier 0,Modifier 1,Modifier 2,MainWord,Modifier 3,Modifier 4],[\"by\",\"happily\",\"nicely\",\"jumping\",\"fairly\",\"epically\"])\n",
      "Just ([MainWord],[\"Fox\"])\n"
     ]
    },
    {
     "ename": "",
     "evalue": "1",
     "output_type": "error",
     "traceback": []
    }
   ],
   "source": [
    "basicExampleData (nounExampleInfo False) (words \"quick brown sick happy gnarly old\") \"fox\" False 0 [False,True,True,False,False]\n",
    "basicExampleData (verbExampleInfo False) (words \"quickly happily nicely fairly recently\") \"kills\" False 0 [False,True,True,False,False]\n",
    "basicExampleData (preVerbExampleInfo \"will\" False) (words \"quickly happily nicely fairly recently\") \"kill\" False 0 [False,True,True,False,False]\n",
    "basicExampleData (preVerbExampleInfo \"by\" False) (words \"quickly happily nicely fairly recently\") \"killing\" False 0 [False,False,True,False,False]\n",
    "exampleDataWithDescriptor [1,1] nounExampleInfo (words \"quick brown sick happy gnarly old\") (words \"fox box salt\") [False,False] False\n",
    "exampleDataWithDescriptor [1,1,3] nounExampleInfo (words \"quick brown sick happy gnarly old\") (words \"fox box salt\") [False,False,True,False,False] False\n",
    "exampleDataWithDescriptor [3,2] verbExampleInfo (words \"quickly happily nicely fairly recently\") (words \"kills epically finally\") [True,False,False,False,False] False\n",
    "exampleDataWithDescriptor [3,2] (preVerbExampleInfo \"by\") (words \"quickly happily nicely fairly recently\") (words \"jumping epically finally\") [False,False,False,False,False] False\n",
    "exampleDataWithDescriptor [0] nounExampleInfo (words \"quick brown sick happy gnarly old\") (words \"fox box salt\") [] False\n"
   ]
  },
  {
   "cell_type": "code",
   "execution_count": 11,
   "metadata": {},
   "outputs": [
    {
     "ename": "",
     "evalue": "1",
     "output_type": "error",
     "traceback": []
    }
   ],
   "source": [
    "--writeFileExamples \"samples.txt\" \"wordLists.txt\""
   ]
  },
  {
   "cell_type": "code",
   "execution_count": 12,
   "metadata": {},
   "outputs": [
    {
     "name": "stdout",
     "output_type": "stream",
     "text": [
      "Successful read of file examples\n"
     ]
    },
    {
     "ename": "",
     "evalue": "1",
     "output_type": "error",
     "traceback": []
    }
   ],
   "source": [
    "(Just linearizer) <- readLinearizer \"samples.txt\" \"possLists.txt\""
   ]
  },
  {
   "cell_type": "code",
   "execution_count": 13,
   "metadata": {},
   "outputs": [
    {
     "ename": "",
     "evalue": "1",
     "output_type": "error",
     "traceback": []
    }
   ],
   "source": [
    "(Just (dictionary, wordGenerator)) <- readWordGenerator \"corpus.txt\"\n",
    "ordinals = wordOrdinals dictionary :: WordOrdinals Int"
   ]
  },
  {
   "cell_type": "code",
   "execution_count": 14,
   "metadata": {},
   "outputs": [
    {
     "ename": "",
     "evalue": "1",
     "output_type": "error",
     "traceback": []
    }
   ],
   "source": [
    "(inputSentence, sentence) <- generateSentence linearizer wordGenerator 5 <$> newStdGen"
   ]
  },
  {
   "cell_type": "code",
   "execution_count": 15,
   "metadata": {},
   "outputs": [
    {
     "name": "stdout",
     "output_type": "stream",
     "text": [
      "([InputText \"Will\",InputText \"pay\",InputText \"tooth\",InputText \"image\",InputText \"against\",InputText \"treating\",InputText \"these\",InputText \"screenplay\",InputText \"despite\",InputText \"some\",InputText \"university\",InputText \"containing\",InputText \"Lucy\",InputText \"the\",InputText \"taunt\",InputText \"booking\",InputText \"Semple-Lisle\"],Sentence [(NTFuture,NTFuture)] [Modifier 13 14,Modifier 0 1,Modifier 2 3,Modifier 4 5,Modifier 6 7,Modifier 9 7,Modifier 10 7] [Analogy 0 14 3 1,Analogy 0 14 7 5,Analogy 0 14 12 11,Analogy 0 14 16 15])\n",
      "\"\"\n",
      "574407210 2066515164\n"
     ]
    },
    {
     "ename": "",
     "evalue": "1",
     "output_type": "error",
     "traceback": []
    }
   ],
   "source": [
    "inputSentence\n",
    "\"\" :: String\n",
    "sentence"
   ]
  },
  {
   "cell_type": "code",
   "execution_count": 17,
   "metadata": {},
   "outputs": [
    {
     "name": "stdout",
     "output_type": "stream",
     "text": [
      "[1,0,0,1,1,1,1,1,1,1,1,1]\n",
      "[1,0,0,0]\n",
      "[1,0,0,0,0,0,1,0,0,1,1,1,1,1,1,1,1,1,0,0,0,0,1,0,0,0]\n",
      "Right (InputText \"slaves\")\n",
      "2559\n",
      "41088\n"
     ]
    },
    {
     "ename": "",
     "evalue": "1",
     "output_type": "error",
     "traceback": []
    }
   ],
   "source": [
    "import Data.Bits (shift, (.&.))\n",
    "integerOrdinals = wordOrdinals dictionary :: WordOrdinals Integer\n",
    "(ordF,ordR) = integerOrdinals \"slaves\"\n",
    "encodeBitList ordF\n",
    "encodeBitList ordR\n",
    "wordInt = encodeInputWord ordinals (InputText \"slaves\", 4)\n",
    "encodeBitList wordInt\n",
    "wordInteger = toInteger wordInt\n",
    "decodeInputWord integerOrdinals (InputText \"slaves\") wordInteger\n",
    "shift wordInteger (-8) .&. ((2::Integer)^(16::Integer)-1)\n",
    "decodeBitList [1,0,1,0,0,0,0,0,1,0,0,0,0,0,0,0]"
   ]
  },
  {
   "cell_type": "code",
   "execution_count": null,
   "metadata": {},
   "outputs": [],
   "source": []
  }
 ],
 "metadata": {
  "kernelspec": {
   "display_name": "GHCI",
   "language": "haskell",
   "name": "ghci"
  },
  "language_info": {
   "codemirror_mode": "haskell",
   "file_extension": ".lhs",
   "mimetype": "text/x-haskell",
   "name": "ghci"
  }
 },
 "nbformat": 4,
 "nbformat_minor": 2
}
