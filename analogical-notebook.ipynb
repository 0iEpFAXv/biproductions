{
 "cells": [
  {
   "cell_type": "code",
   "execution_count": 1,
   "metadata": {},
   "outputs": [
    {
     "name": "stdout",
     "output_type": "stream",
     "text": [
      "/projects/biproductions\n"
     ]
    },
    {
     "ename": "",
     "evalue": "1",
     "output_type": "error",
     "traceback": []
    }
   ],
   "source": [
    ":!pwd"
   ]
  },
  {
   "cell_type": "code",
   "execution_count": 2,
   "metadata": {},
   "outputs": [
    {
     "ename": "",
     "evalue": "1",
     "output_type": "error",
     "traceback": []
    }
   ],
   "source": [
    "import ClassyPrelude\n",
    "import BiProductionsLib\n",
    "import qualified Data.Vector as V\n",
    "import qualified Data.Map as Map"
   ]
  },
  {
   "cell_type": "code",
   "execution_count": 3,
   "metadata": {},
   "outputs": [
    {
     "name": "stdout",
     "output_type": "stream",
     "text": [
      "Sentence [(NTPast,NTPlusDelta)] [Modifier 0 3,Modifier 1 3,Modifier 2 3,Modifier 3 3,Modifier 4 9,Modifier 5 4,Modifier 6 9,Modifier 7 8,Modifier 8 9,Modifier 9 3] [Analogy 0 3 9 4]\n"
     ]
    },
    {
     "ename": "",
     "evalue": "1",
     "output_type": "error",
     "traceback": []
    }
   ],
   "source": [
    "--          \"  The quick brown   fox jumped  over   the  lazy dog's  back .\"\n",
    "--wordId     00000 00001 00010 00011  00100 00101 00110 00111 01000 01001\n",
    "--modifierId 00011 00011 00011 00011  01001 00100 01001 01000 01001 00011\n",
    "--analogy    Analogy 0 00011 01001 00100\n",
    "\n",
    "s1OMList =  [    3,   3,     3,    3,     9,    4,    9,    8,    9,    3] :: [Int]\n",
    "s1ModifiersList = map (\\(x,y) -> Modifier x y) $ zip ([0..] :: [Int]) s1OMList\n",
    "s1Tenses = V.singleton (NTPast, NTPlusDelta)\n",
    "s1Modifiers = V.fromList s1ModifiersList\n",
    "s1Analogies = V.singleton (Analogy 0 3 9 4)\n",
    "s1 = Sentence s1Tenses s1Modifiers s1Analogies\n",
    "--bits = fmap V.fromList $ encodeOneHotOutput defaultOneHotCaps s1\n",
    "--encodeOneHotOutput defaultOneHotCaps s1\n",
    "--fmap (getBitGroups defaultOneHotCaps) bits\n",
    "s1"
   ]
  },
  {
   "cell_type": "code",
   "execution_count": 16,
   "metadata": {},
   "outputs": [
    {
     "name": "stdout",
     "output_type": "stream",
     "text": [
      "\"fromList [(\\\"believer\\\",3),(\\\"george\\\",2),(\\\"hi\\\",1)]\"\n"
     ]
    },
    {
     "ename": "",
     "evalue": "1",
     "output_type": "error",
     "traceback": []
    }
   ],
   "source": [
    "aList = [(\"hi\",1),(\"george\",2),(\"believer\",3)] :: [(Text,Int)]\n",
    "tshow $ Map.fromList aList "
   ]
  },
  {
   "cell_type": "code",
   "execution_count": 5,
   "metadata": {},
   "outputs": [
    {
     "name": "stdout",
     "output_type": "stream",
     "text": [
      "Sentence [(NTPast,NTPlusDelta),(NTPlusDelta,NTPlusDelta)] [Modifier 0 0,Modifier 1 3,Modifier 2 3,Modifier 3 0,Modifier 5 8,Modifier 6 6,Modifier 7 8,Modifier 8 6] [Analogy 0 0 3 1,Analogy 1 6 8 7]\n"
     ]
    },
    {
     "ename": "",
     "evalue": "1",
     "output_type": "error",
     "traceback": []
    }
   ],
   "source": [
    "--          \" Jack   ate   the twinkie     ;  then    he   got  sick     .\"\n",
    "--wordId     00000 00001 00010   00011 00100 00101 00110 00111 01000 01001\n",
    "--modifierId 00000 00011 00011   00000     - 01000 00110 01000 00110     -\n",
    "--analogy    Analogy 0 00000 00011 00001, Analogy 1 00110 01000 00111 \n",
    "\n",
    "s2OMList =  [    0,   3,     3,    0,    -1,    8,    6,    8,    6,    -1] :: [Int]\n",
    "s2ModifiersList = map (\\(x,y) -> Modifier x y) $ zip ([0..] :: [Int]) s2OMList\n",
    "f2ModifiersList = filter (\\(Modifier _ y) -> y >= 0) s2ModifiersList\n",
    "s2Tenses = V.fromList [(NTPast, NTPlusDelta), (NTPlusDelta, NTPlusDelta)]\n",
    "s2Modifiers = V.fromList f2ModifiersList\n",
    "s2Analogies = V.fromList [(Analogy 0 0 3 1), (Analogy 1 6 8 7)]\n",
    "s2 = Sentence s2Tenses s2Modifiers s2Analogies\n",
    "--bits = fmap V.fromList $ encodeOneHotOutput defaultOneHotCaps s1\n",
    "--encodeOneHotOutput defaultOneHotCaps s1\n",
    "--fmap (getBitGroups defaultOneHotCaps) bits\n",
    "s2"
   ]
  },
  {
   "cell_type": "code",
   "execution_count": 6,
   "metadata": {},
   "outputs": [
    {
     "name": "stdout",
     "output_type": "stream",
     "text": [
      "Right (Sentence [(NTPast,NTPlusDelta)] [Modifier 0 3,Modifier 1 3,Modifier 2 3,Modifier 3 3,Modifier 4 9,Modifier 5 4,Modifier 6 9,Modifier 7 8,Modifier 8 9,Modifier 9 3] [Analogy 0 3 9 4],True)\n",
      "Right (Sentence [(NTPast,NTPlusDelta),(NTPlusDelta,NTPlusDelta)] [Modifier 0 0,Modifier 1 3,Modifier 2 3,Modifier 3 0,Modifier 5 8,Modifier 6 6,Modifier 7 8,Modifier 8 6] [Analogy 0 0 3 1,Analogy 1 6 8 7],True)\n"
     ]
    },
    {
     "ename": "",
     "evalue": "1",
     "output_type": "error",
     "traceback": []
    }
   ],
   "source": [
    "decodeEncodeOneHotOutput defaultOneHotCaps s1\n",
    "--bits = fmap V.fromList $ encodeOneHotOutput defaultOneHotCaps s2\n",
    "--fmap (getBitGroups defaultOneHotCaps) bits\n",
    "decodeEncodeOneHotOutput defaultOneHotCaps s2"
   ]
  },
  {
   "cell_type": "code",
   "execution_count": 7,
   "metadata": {},
   "outputs": [
    {
     "name": "stdout",
     "output_type": "stream",
     "text": [
      "([1,0,0],[1,0])\n",
      "([0,0,0,0,0,0,0,0,0,0,0,0,0,1,0,0],[0,0,0,0,0,0,1,0])\n"
     ]
    },
    {
     "ename": "",
     "evalue": "1",
     "output_type": "error",
     "traceback": []
    }
   ],
   "source": [
    "ords = wordOrdinals [\"killing\", \"trashing\", \"started\", \"killed\", \"bleed\", \"dragoned\", \"passer\", \"Blade\"]\n",
    "ords \"Killed\"\n",
    "padded = padOrdinals (65536 :: Int) (256 :: Int) ords\n",
    "padded \"Killed\""
   ]
  },
  {
   "cell_type": "code",
   "execution_count": 8,
   "metadata": {},
   "outputs": [
    {
     "name": "stdout",
     "output_type": "stream",
     "text": [
      "\"OneHotCaps {ohcWords = 64, ohcTenses = 2}\"\n"
     ]
    },
    {
     "ename": "",
     "evalue": "1",
     "output_type": "error",
     "traceback": []
    }
   ],
   "source": [
    "-- Since we are going for comprehension, it seems unnecessary to digest sentences longer \n",
    "-- than 30 words. A compound sentence has 2 tenses, so cap tenses at 2. See:\n",
    "-- https://insidegovuk.blog.gov.uk/2014/08/04/sentence-length-why-25-words-is-our-limit/\n",
    "caps = defaultOneHotCaps\n",
    "show caps\n",
    "\n",
    "-- Here are the relevant types for the Linearizer:\n",
    "--type BasicPhrase = ([Int],[Int],Int,[Int])\n",
    "--type LinearPhrase a = [(Int,a)]\n",
    "--data PhraseCode = SubjectCode Int BasicPhrase \n",
    "--                | ConjunctionCode BasicPhrase \n",
    "--                | AnalogyObjectCode Int Int BasicPhrase BasicPhrase Tense\n",
    "--type Linearizer a = PhraseCode -> PhraseContext (LinearPhrase a)\n",
    "--type WordGenerator a = LinearPhrase a -> PhraseContext (LinearPhrase Text)\n",
    "\n",
    "-- The PhraseContext is essentially a random number generator:\n",
    "--do getRandomN (low,high)\n",
    "--do getRandom\n",
    "\n",
    "maxModifiers = 5 :: Int"
   ]
  },
  {
   "cell_type": "code",
   "execution_count": 9,
   "metadata": {},
   "outputs": [
    {
     "name": "stdout",
     "output_type": "stream",
     "text": [
      "Just ([Modifier 0,Modifier 1,Modifier 2,Modifier 3,Modifier 4,MainWord],[\"the\",\"very\",\"very\",\"happy\",\"gnarly\",\"fox\"])\n",
      "Just ([Modifier 0,Modifier 1,Modifier 2,Modifier 3,Modifier 4,MainWord],[\"quickly\",\"very\",\"very\",\"fairly\",\"recently\",\"kills\"])\n",
      "Just ([Modifier 0,Modifier 1,Modifier 2,Modifier 3,Modifier 4,MainWord],[\"will\",\"very\",\"very\",\"fairly\",\"recently\",\"kill\"])\n",
      "Just ([Modifier 0,Modifier 1,Modifier 2,Modifier 3,Modifier 4,MainWord],[\"by\",\"happily\",\"very\",\"fairly\",\"recently\",\"killing\"])\n",
      "Just ([Modifier 0,MainWord,Other 0,Modifier 1],[\"the\",\"fox\",\"of\",\"Box\"])\n",
      "Just ([Modifier 0,MainWord,Other 0,Modifier 4,Other 0,Modifier 1,Modifier 2,Modifier 3],[\"the\",\"fox\",\"of\",\"Box\",\"of\",\"very\",\"happy\",\"Salt\"])\n",
      "Just ([Modifier 0,Modifier 1,Modifier 2,MainWord,Modifier 3,Modifier 4],[\"very\",\"happily\",\"nicely\",\"kills\",\"fairly\",\"epically\"])\n",
      "Just ([Modifier 0,Modifier 1,Modifier 2,MainWord,Modifier 3,Modifier 4],[\"by\",\"happily\",\"nicely\",\"jumping\",\"fairly\",\"epically\"])\n"
     ]
    },
    {
     "ename": "",
     "evalue": "1",
     "output_type": "error",
     "traceback": []
    }
   ],
   "source": [
    "basicExampleData (nounExampleInfo False) (words \"quick brown sick happy gnarly old\") \"fox\" False 0 [False,True,True,False,False]\n",
    "basicExampleData (verbExampleInfo False) (words \"quickly happily nicely fairly recently\") \"kills\" False 0 [False,True,True,False,False]\n",
    "basicExampleData (verbFutureExampleInfo False) (words \"quickly happily nicely fairly recently\") \"kill\" False 0 [False,True,True,False,False]\n",
    "basicExampleData (byVerbExampleInfo False) (words \"quickly happily nicely fairly recently\") \"killing\" False 0 [False,False,True,False,False]\n",
    "exampleDataWithDescriptor [1,1] nounExampleInfo (words \"quick brown sick happy gnarly old\") (words \"fox box salt\") [False,False] False\n",
    "exampleDataWithDescriptor [1,1,3] nounExampleInfo (words \"quick brown sick happy gnarly old\") (words \"fox box salt\") [False,False,True,False,False] False\n",
    "exampleDataWithDescriptor [3,2] verbExampleInfo (words \"quickly happily nicely fairly recently\") (words \"kills epically finally\") [True,False,False,False,False] False\n",
    "exampleDataWithDescriptor [3,2] byVerbExampleInfo (words \"quickly happily nicely fairly recently\") (words \"jumping epically finally\") [False,False,False,False,False] False"
   ]
  },
  {
   "cell_type": "code",
   "execution_count": 11,
   "metadata": {},
   "outputs": [
    {
     "ename": "",
     "evalue": "1",
     "output_type": "error",
     "traceback": []
    }
   ],
   "source": [
    "writeFileExamples \"samples.txt\" \"wordLists.txt\""
   ]
  },
  {
   "cell_type": "code",
   "execution_count": null,
   "metadata": {},
   "outputs": [],
   "source": []
  }
 ],
 "metadata": {
  "kernelspec": {
   "display_name": "GHCI",
   "language": "haskell",
   "name": "ghci"
  },
  "language_info": {
   "codemirror_mode": "haskell",
   "file_extension": ".lhs",
   "mimetype": "text/x-haskell",
   "name": "ghci"
  }
 },
 "nbformat": 4,
 "nbformat_minor": 2
}
